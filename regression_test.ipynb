{
 "cells": [
  {
   "cell_type": "markdown",
   "metadata": {},
   "source": [
    "## Caricamento moduli richiesti"
   ]
  },
  {
   "cell_type": "code",
   "execution_count": 141,
   "metadata": {},
   "outputs": [],
   "source": [
    "import torch\n",
    "from torch.utils import data\n",
    "from os.path import join\n",
    "from PIL import Image\n",
    "import pandas as pd\n",
    "import numpy as np\n",
    "from torchvision import transforms\n",
    "import pickle\n",
    "import os\n",
    "from torchvision import transforms\n",
    "from torch.utils.data import DataLoader\n",
    "from os.path import join\n",
    "import os\n",
    "import torch_directml  #Opzionale per usare qualsiasi GPU durante il training\n",
    "from matplotlib import pyplot as plt\n",
    "from dotenv import load_dotenv \n"
   ]
  },
  {
   "cell_type": "markdown",
   "metadata": {},
   "source": [
    "## Caricamento variabili d'ambiente"
   ]
  },
  {
   "cell_type": "code",
   "execution_count": 142,
   "metadata": {},
   "outputs": [
    {
     "data": {
      "text/plain": [
       "True"
      ]
     },
     "execution_count": 142,
     "metadata": {},
     "output_type": "execute_result"
    }
   ],
   "source": [
    "load_dotenv(override=True) #Rieseguire se si apportano modifiche all'env"
   ]
  },
  {
   "cell_type": "markdown",
   "metadata": {},
   "source": [
    "## Classe per caricare il dataset da CSV"
   ]
  },
  {
   "cell_type": "code",
   "execution_count": 143,
   "metadata": {},
   "outputs": [],
   "source": [
    "\n",
    "class CSVImageDataset(data.Dataset):\n",
    "    def __init__(self, data_root, csv, transform=None):\n",
    "        self.data_root = data_root\n",
    "        self.data = pd.read_csv(csv)\n",
    "        self.transform = transform\n",
    "    \n",
    "    def __len__(self):\n",
    "        return len(self.data)\n",
    "    \n",
    "    def __getitem__(self, i):\n",
    "        im_path, im_label = self.data.iloc[i]['Path'], self.data.iloc[i].Label\n",
    "        # Eventuale conversione di immagini in RGB\n",
    "        im = Image.open(join(self.data_root, im_path)).convert('RGB')\n",
    "        \n",
    "        # Applica composizione di trasformazioni\n",
    "        if self.transform is not None:\n",
    "            im = self.transform(im)\n",
    "        \n",
    "        return im, im_label"
   ]
  },
  {
   "cell_type": "code",
   "execution_count": 144,
   "metadata": {},
   "outputs": [],
   "source": [
    "def salva_valori_su_file(valori, file_path):\n",
    "    with open(file_path, 'wb') as file:\n",
    "        pickle.dump(valori, file)\n",
    "\n",
    "def leggi_valori_da_file(file_path):\n",
    "    with open(file_path, 'rb') as file:\n",
    "        valori = pickle.load(file)\n",
    "    return valori"
   ]
  },
  {
   "cell_type": "code",
   "execution_count": 145,
   "metadata": {},
   "outputs": [
    {
     "name": "stdout",
     "output_type": "stream",
     "text": [
      "Valori letti dal file: [tensor(0.6095), tensor(0.5478), tensor(0.4684), tensor(0.2324), tensor(0.2478), tensor(0.2655)]\n"
     ]
    }
   ],
   "source": [
    "resolution=640\n",
    "\n",
    "file_path=os.getenv(\"PATH_MEAN_STD\")\n",
    "\n",
    "#******** SE ESISTE UN FILE CON VALORI PRECALCOLATI USA QUELLI********\n",
    "if os.path.exists(file_path):\n",
    "    valori = leggi_valori_da_file(file_path)\n",
    "    print(\"Valori letti dal file:\", valori)\n",
    "    red_mean=valori[0]\n",
    "    green_mean=valori[1]\n",
    "    blue_mean=valori[2]\n",
    "    red_std=valori[3]\n",
    "    green_std=valori[4]\n",
    "    blue_std=valori[5]\n",
    "else:\n",
    "\n",
    "    os.makedirs(\"bin\",exist_ok=True)\n",
    "    \n",
    "    preprocessing_trasnform = transforms.Compose([\n",
    "    transforms.Resize((resolution,resolution)),\n",
    "    transforms.ToTensor(),\n",
    "    ])\n",
    "\n",
    "    dataset_train=CSVImageDataset(os.getenv(\"PATH_TRAIN_IMAGES\"),os.getenv(\"PATH_TRAIN_CSV\"),transform=preprocessing_trasnform)\n",
    "    dataset_valid=CSVImageDataset(os.getenv(\"PATH_VALID_IMAGES\"),os.getenv(\"PATH_VALID_CSV\"),transform=preprocessing_trasnform)\n",
    "    dataset_test=CSVImageDataset(os.getenv(\"PATH_TEST_IMAGES\"),os.getenv(\"PATH_TEST_CSV\"),transform=preprocessing_trasnform)\n",
    "\n",
    "    red_mean=0\n",
    "    green_mean=0\n",
    "    blue_mean=0\n",
    "    num_pixel=(len(dataset_train)*(resolution)**2)\n",
    "    for image in dataset_train:\n",
    "        red_mean+=image[0][0].sum()# somma di tutti i pixel\n",
    "        green_mean+=image[0][1].sum()# somma di tutti i pixel\n",
    "        blue_mean+=image[0][2].sum()# somma di tutti i pixel\n",
    "    #dividiamo per il numero di immagini molt numero di pixel\n",
    "    red_mean=red_mean/num_pixel\n",
    "    green_mean=green_mean/num_pixel\n",
    "    blue_mean=blue_mean/num_pixel\n",
    "\n",
    "    #Calcolo della deviazione standard\n",
    "    red_std=0\n",
    "    green_std=0\n",
    "    blue_std=0\n",
    "    for image in dataset_train:\n",
    "        red_std+=((image[0][0]-red_mean)**2).sum()\n",
    "        green_std+=((image[0][1]-green_mean)**2).sum()\n",
    "        blue_std+=((image[0][2]-blue_mean)**2).sum()\n",
    "    #sqrt della varianza\n",
    "    red_std=np.sqrt(red_std/num_pixel)\n",
    "    green_std=np.sqrt(green_std/num_pixel)\n",
    "    blue_std=np.sqrt(blue_std/num_pixel)\n",
    "\n",
    "    valori=[red_mean,green_mean,blue_mean,red_std,green_std,blue_std]\n",
    "    salva_valori_su_file(valori, file_path)\n",
    "    print(\"Valori calcolati e salvati:\", valori)"
   ]
  },
  {
   "cell_type": "code",
   "execution_count": 146,
   "metadata": {},
   "outputs": [],
   "source": [
    "test_transform = transforms.Compose([\n",
    "    transforms.Resize(640),\n",
    "    transforms.ToTensor(),\n",
    "    transforms.Normalize([red_mean, green_mean, blue_mean], [red_std, green_std, blue_std])\n",
    "])\n",
    "\n",
    "dataset_test=CSVImageDataset(os.getenv(\"PATH_TEST_IMAGES\"),os.getenv(\"PATH_TEST_CSV\"),transform=test_transform)\n",
    "\n",
    "test_loader=(DataLoader(dataset_test,batch_size=16,num_workers=0))\n"
   ]
  },
  {
   "cell_type": "code",
   "execution_count": 147,
   "metadata": {},
   "outputs": [],
   "source": [
    "#checkpoint=torch.load(os.getenv(\"PATH_REGRESSION_MODEL_BEST\"),map_location='cpu')\n",
    "# checkpoint=torch.load(\"./checkpoints/squeezenet_last_pretrained-117.pth\",map_location='cpu')\n",
    "checkpoint=torch.load(\"./checkpoints/resnet_last_pretrained-148.pth\",map_location='cpu')\n",
    "squeezenet_regression=checkpoint[\"model\"]"
   ]
  },
  {
   "cell_type": "code",
   "execution_count": 148,
   "metadata": {},
   "outputs": [],
   "source": [
    "def test_classifier(model,loader):\n",
    "    #device=dml\n",
    "    model.to('cpu')\n",
    "    predictions,labels=[],[]\n",
    "    n=0\n",
    "    model.eval()\n",
    "    for batch in loader:\n",
    "        x=batch[0].to('cpu')\n",
    "        y=batch[1].to('cpu')\n",
    "        output=model(x) \n",
    "        n+=x.shape[0]\n",
    "        output.detach()\n",
    "        y.detach()\n",
    "        preds=(output.view(-1).to('cpu')).detach().numpy()\n",
    "        labs=(y.to('cpu')).detach().numpy()\n",
    "        predictions.extend(list(preds))\n",
    "        labels.extend(list(labs))\n",
    "    return np.array(predictions),np.array(labels)"
   ]
  },
  {
   "cell_type": "code",
   "execution_count": 149,
   "metadata": {},
   "outputs": [],
   "source": [
    "def rec_curve(predictions,gt):\n",
    "    assert predictions.shape==gt.shape\n",
    "    #MAE\n",
    "    errors =np.abs((predictions-gt))\n",
    "    tolerances=sorted(np.unique(errors)) #Prende gli le occorrenze uniche di errore\n",
    "    correct=[]\n",
    "    for t in tolerances: #Uso le occorrenze prese prima come tolleranza\n",
    "        correct.append((errors<=t).mean())#Correttamente regressi rispetto alla tolleranza in questione\n",
    "    AUC= np.trapz(correct,tolerances)#Area sotto la curva con metodo dei trapezi\n",
    "    tot_area=np.max(tolerances)*1 #Area totale\n",
    "    AOC=tot_area-AUC #Area sopra la curva\n",
    "    #Restituiamo le soglie, la frazione di campioni corr. regressi e l'area sopra la curva\n",
    "    return tolerances,correct,AOC"
   ]
  },
  {
   "cell_type": "code",
   "execution_count": 150,
   "metadata": {},
   "outputs": [],
   "source": [
    "predictions,labels=test_classifier(squeezenet_regression,test_loader)"
   ]
  },
  {
   "cell_type": "code",
   "execution_count": 151,
   "metadata": {},
   "outputs": [
    {
     "name": "stdout",
     "output_type": "stream",
     "text": [
      "Mean Squared Error MSE di test: 6.70\n",
      "Mean Squared Error RMSE di test: 2.59\n",
      "Mean Squared Error MAE di test: 0.69\n"
     ]
    }
   ],
   "source": [
    "print(\"Mean Squared Error MSE di test: {:0.2f}\".format(((predictions-labels)**2).mean()))\n",
    "print(\"Mean Squared Error RMSE di test: {:0.2f}\".format((((predictions-labels)**2).mean())**(1/2)))\n",
    "print(\"Mean Squared Error MAE di test: {:0.2f}\".format(abs(predictions-labels).mean()))"
   ]
  },
  {
   "cell_type": "code",
   "execution_count": 152,
   "metadata": {},
   "outputs": [
    {
     "data": {
      "image/png": "[encoded data removed]",
      "text/plain": [
       "<Figure size 640x480 with 1 Axes>"
      ]
     },
     "metadata": {},
     "output_type": "display_data"
    }
   ],
   "source": [
    "regressor_rec=rec_curve(predictions,labels)\n",
    "plt.plot(regressor_rec[0],regressor_rec[1])\n",
    "plt.legend([\"Euro Squeezenet Regressor AOC:%0.2f\"%regressor_rec[2]])\n",
    "plt.grid()\n",
    "plt.show()"
   ]
  },
  {
   "cell_type": "code",
   "execution_count": null,
   "metadata": {},
   "outputs": [],
   "source": []
  }
 ],
 "metadata": {
  "kernelspec": {
   "display_name": "Python 3",
   "language": "python",
   "name": "python3"
  },
  "language_info": {
   "codemirror_mode": {
    "name": "ipython",
    "version": 3
   },
   "file_extension": ".py",
   "mimetype": "text/x-python",
   "name": "python",
   "nbconvert_exporter": "python",
   "pygments_lexer": "ipython3",
   "version": "3.12.2"
  }
 },
 "nbformat": 4,
 "nbformat_minor": 2
}
