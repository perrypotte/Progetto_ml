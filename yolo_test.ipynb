{
 "cells": [
  {
   "cell_type": "code",
   "execution_count": 1,
   "metadata": {},
   "outputs": [
    {
     "name": "stdout",
     "output_type": "stream",
     "text": [
      "Ultralytics YOLOv8.2.46  Python-3.12.4 torch-2.3.1+cu121 CUDA:0 (NVIDIA GeForce RTX 2060 SUPER, 8192MiB)\n",
      "YOLOv8m summary (fused): 218 layers, 25844392 parameters, 0 gradients, 78.7 GFLOPs\n"
     ]
    },
    {
     "name": "stderr",
     "output_type": "stream",
     "text": [
      "\u001b[34m\u001b[1mval: \u001b[0mScanning C:\\Users\\doger\\GitHub\\Progetto_ml\\euro\\test\\labels... 62 images, 3 backgrounds, 0 corrupt: 100%|██████████| 62/62 [00:00<00:00, 411.69it/s]"
     ]
    },
    {
     "name": "stdout",
     "output_type": "stream",
     "text": [
      "\u001b[34m\u001b[1mval: \u001b[0mNew cache created: C:\\Users\\doger\\GitHub\\Progetto_ml\\euro\\test\\labels.cache\n"
     ]
    },
    {
     "name": "stderr",
     "output_type": "stream",
     "text": [
      "\n",
      "                 Class     Images  Instances      Box(P          R      mAP50  mAP50-95): 100%|██████████| 4/4 [00:05<00:00,  1.41s/it]\n"
     ]
    },
    {
     "name": "stdout",
     "output_type": "stream",
     "text": [
      "                   all         62        280        0.8      0.738      0.826      0.784\n",
      "                     1          9         14      0.735      0.643       0.81       0.75\n",
      "                    10         13        103      0.842      0.414      0.659      0.597\n",
      "                   100          5         18      0.944      0.942      0.984      0.918\n",
      "                     2         10         12       0.62      0.667      0.705      0.688\n",
      "                    20         13         50      0.372      0.641      0.629      0.597\n",
      "                   200         17         27      0.986      0.963      0.993      0.967\n",
      "                     5          8         31      0.902       0.89      0.942      0.895\n",
      "                    50         23         25          1      0.742      0.887      0.857\n",
      "Speed: 1.8ms preprocess, 17.4ms inference, 0.0ms loss, 2.9ms postprocess per image\n",
      "Results saved to \u001b[1mruns\\detect\\val\u001b[0m\n"
     ]
    },
    {
     "data": {
      "text/plain": [
       "array([    0.75023,     0.59688,     0.91818,     0.68829,     0.59743,     0.96728,     0.89476,     0.85724])"
      ]
     },
     "execution_count": 1,
     "metadata": {},
     "output_type": "execute_result"
    }
   ],
   "source": [
    "from ultralytics import YOLO\n",
    "from dotenv import load_dotenv\n",
    "import os\n",
    "from pathlib import Path\n",
    "\n",
    "load_dotenv(\".env\",override=True)\n",
    "\n",
    "model = YOLO(os.getenv(\"PATH_YOLO_BEST\"))  # load a custom model\n",
    "\n",
    "# Validate the model\n",
    "metrics = model.val(data= Path(os.getenv(\"PATH_YAML\")).resolve().as_posix(),split=\"test\")  # no arguments needed, dataset and settings remembered\n",
    "metrics.box.map  # map50-95\n",
    "metrics.box.map50  # map50\n",
    "metrics.box.map75  # map75\n",
    "metrics.box.maps  # a list contains map50-95 of each category"
   ]
  }
 ],
 "metadata": {
  "kernelspec": {
   "display_name": "ML",
   "language": "python",
   "name": "python3"
  },
  "language_info": {
   "codemirror_mode": {
    "name": "ipython",
    "version": 3
   },
   "file_extension": ".py",
   "mimetype": "text/x-python",
   "name": "python",
   "nbconvert_exporter": "python",
   "pygments_lexer": "ipython3",
   "version": "3.12.4"
  }
 },
 "nbformat": 4,
 "nbformat_minor": 2
}
