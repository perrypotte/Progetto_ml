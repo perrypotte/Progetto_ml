{
 "cells": [
  {
   "cell_type": "markdown",
   "metadata": {},
   "source": [
    "## Moduli necessari"
   ]
  },
  {
   "cell_type": "code",
   "execution_count": null,
   "metadata": {},
   "outputs": [],
   "source": [
    "import torch\n",
    "from torch.utils import data\n",
    "from os.path import join\n",
    "from PIL import Image\n",
    "import pandas as pd\n",
    "import numpy as np\n",
    "from torchvision import transforms\n",
    "from torchvision.models import squeezenet1_0\n",
    "from torchvision.models import SqueezeNet1_0_Weights\n",
    "from torch import nn\n",
    "import pickle\n",
    "import os\n",
    "from torchvision import transforms\n",
    "from torch.utils.data import DataLoader\n",
    "from torch.optim import SGD\n",
    "from torch.utils.tensorboard import SummaryWriter\n",
    "from sklearn.metrics import accuracy_score\n",
    "from os.path import join\n",
    "import os\n",
    "import torch_directml  #Opzionale per usare qualsiasi GPU durante il training\n",
    "import torch.optim as optim\n",
    "from matplotlib import pyplot as plt\n",
    "from dotenv import load_dotenv"
   ]
  },
  {
   "cell_type": "code",
   "execution_count": null,
   "metadata": {},
   "outputs": [],
   "source": [
    "load_dotenv(override=True) #Rieseguire se si apportano modifiche all'env"
   ]
  },
  {
   "cell_type": "markdown",
   "metadata": {},
   "source": [
    "## Classe per leggere immagini da CSV \n",
    "#### (Richiede CSV ricavati con dataset_maker_regression.py)"
   ]
  },
  {
   "cell_type": "code",
   "execution_count": null,
   "metadata": {},
   "outputs": [],
   "source": [
    "\n",
    "\n",
    "class CSVImageDataset(data.Dataset):\n",
    "    def __init__(self, data_root, csv, transform=None):\n",
    "        self.data_root = data_root\n",
    "        self.data = pd.read_csv(csv)\n",
    "        self.transform = transform\n",
    "    \n",
    "    def __len__(self):\n",
    "        return len(self.data)\n",
    "    \n",
    "    def __getitem__(self, i):\n",
    "        im_path, im_label = self.data.iloc[i]['Path'], self.data.iloc[i].Label\n",
    "        # il dataset contiene alcune immagini in scala di grigi\n",
    "        # convertiamo tutto in RGB per avere delle immagini consistenti\n",
    "        im = Image.open(join(self.data_root, im_path)).convert('RGB')\n",
    "        \n",
    "        #Per fare eventualmente data augmentation o quelle come toTensor?\n",
    "        if self.transform is not None:\n",
    "            im = self.transform(im)\n",
    "        \n",
    "        return im, im_label"
   ]
  },
  {
   "cell_type": "markdown",
   "metadata": {},
   "source": [
    "## Calcolo media e std per normalizzazione"
   ]
  },
  {
   "cell_type": "code",
   "execution_count": null,
   "metadata": {},
   "outputs": [],
   "source": [
    "def salva_valori_su_file(valori, file_path):\n",
    "    with open(file_path, 'wb') as file:\n",
    "        pickle.dump(valori, file)\n",
    "\n",
    "def leggi_valori_da_file(file_path):\n",
    "    with open(file_path, 'rb') as file:\n",
    "        valori = pickle.load(file)\n",
    "    return valori"
   ]
  },
  {
   "cell_type": "code",
   "execution_count": null,
   "metadata": {},
   "outputs": [],
   "source": [
    "resolution=640\n",
    "os.makedirs(\"bin\",exist_ok=True)\n",
    "file_path = 'valori.pkl'\n",
    "\n",
    "#******** SE ESISTE UN FILE CON VALORI PRECALCOLATI USA QUELLI********\n",
    "if os.path.exists(file_path):\n",
    "    valori = leggi_valori_da_file(file_path)\n",
    "    print(\"Valori letti dal file:\", valori)\n",
    "    red_mean=valori[0]\n",
    "    green_mean=valori[1]\n",
    "    blue_mean=valori[2]\n",
    "    red_std=valori[3]\n",
    "    green_std=valori[4]\n",
    "    blue_std=valori[5]\n",
    "else:\n",
    "\n",
    "    preprocessing_trasnform = transforms.Compose([\n",
    "    transforms.Resize((resolution,resolution)),\n",
    "    transforms.ToTensor(),\n",
    "    ])\n",
    "\n",
    "    dataset_train=CSVImageDataset('euro/train/images','train.csv',transform=preprocessing_trasnform)\n",
    "    dataset_valid=CSVImageDataset('euro/valid/images','valid.csv',transform=preprocessing_trasnform)\n",
    "    dataset_test=CSVImageDataset('euro/test/images','test.csv',transform=preprocessing_trasnform)\n",
    "\n",
    "    red_mean=0\n",
    "    green_mean=0\n",
    "    blue_mean=0\n",
    "    num_pixel=(len(dataset_train)*(resolution)**2)\n",
    "    for image in dataset_train:\n",
    "        red_mean+=image[0][0].sum()# somma di tutti i pixel\n",
    "        green_mean+=image[0][1].sum()# somma di tutti i pixel\n",
    "        blue_mean+=image[0][2].sum()# somma di tutti i pixel\n",
    "    #dividiamo per il numero di immagini molt numero di pixel\n",
    "    red_mean=red_mean/num_pixel\n",
    "    green_mean=green_mean/num_pixel\n",
    "    blue_mean=blue_mean/num_pixel\n",
    "    #deviazione standard\n",
    "    red_std=0\n",
    "    green_std=0\n",
    "    blue_std=0\n",
    "    for image in dataset_train:\n",
    "        red_std+=((image[0][0]-red_mean)**2).sum()\n",
    "        green_std+=((image[0][1]-green_mean)**2).sum()\n",
    "        blue_std+=((image[0][2]-blue_mean)**2).sum()\n",
    "    #sqrt della varianza\n",
    "    red_std=np.sqrt(red_std/num_pixel)\n",
    "    green_std=np.sqrt(green_std/num_pixel)\n",
    "    blue_std=np.sqrt(blue_std/num_pixel)\n",
    "\n",
    "    valori=[red_mean,green_mean,blue_mean,red_std,green_std,blue_std]\n",
    "    salva_valori_su_file(valori, file_path)\n",
    "    print(\"Valori calcolati e salvati:\", valori)"
   ]
  },
  {
   "cell_type": "markdown",
   "metadata": {},
   "source": [
    "## Preparazione del modello"
   ]
  },
  {
   "cell_type": "code",
   "execution_count": null,
   "metadata": {},
   "outputs": [],
   "source": [
    "# model= squeezenet1_0(weights=SqueezeNet1_0_Weights.DEFAULT)\n",
    "model= squeezenet1_0(weights=None) # Non facciamo Fine-tuning, utilizziamo solo il modello\n",
    "\n",
    "num_class=1\n",
    "model.num_classes=num_class\n",
    "\n",
    "# Vecchio blocco per fare classificazione su 1000 classi\n",
    "# classifier= nn.Sequential(\n",
    "#     nn.Dropout(p=0.5),\n",
    "#     nn.Conv2d(512, 1000, kernel_size=(1, 1), stride=(1, 1)),\n",
    "#     nn.ReLU(),\n",
    "#     nn.AdaptiveAvgPool2d((1, 1)),\n",
    "# )\n",
    "\n",
    "\n",
    "# Creazione di un nuovo blocco \"classifier\" ma che si adatti al task di regressione\n",
    "new_classifier = nn.Sequential(\n",
    "    nn.Dropout(p=0.5),\n",
    "    nn.Conv2d(512, 256, kernel_size=(1, 1), stride=(1, 1)),\n",
    "    nn.ReLU(),\n",
    "    nn.AdaptiveAvgPool2d((1, 1)),\n",
    "    nn.Flatten(),  # Appiattisce l'output da (256, 1, 1) a (256,1)\n",
    "    nn.Linear(256, num_class)  # Layer lineare per la regressione\n",
    ")\n",
    "\n",
    "# Sostituzione del vecchio classifier con il nuovo\n",
    "model.classifier = new_classifier"
   ]
  },
  {
   "cell_type": "markdown",
   "metadata": {},
   "source": [
    "### DataLoader"
   ]
  },
  {
   "cell_type": "code",
   "execution_count": null,
   "metadata": {},
   "outputs": [],
   "source": [
    "train_transform = transforms.Compose([\n",
    "    transforms.Resize(640),\n",
    "    transforms.RandomHorizontalFlip(),\n",
    "    transforms.ToTensor(),\n",
    "    transforms.Normalize([red_mean, green_mean, blue_mean], [red_std, green_std, blue_std])\n",
    "])\n",
    "\n",
    "test_transform = transforms.Compose([\n",
    "    transforms.Resize(640),\n",
    "    transforms.RandomHorizontalFlip(),\n",
    "    transforms.ToTensor(),\n",
    "    transforms.Normalize([red_mean, green_mean, blue_mean], [red_std, green_std, blue_std])\n",
    "])\n",
    "\n",
    "dataset_train=CSVImageDataset('euro/train/images','train.csv',transform=train_transform)\n",
    "dataset_valid=CSVImageDataset('euro/valid/images','valid.csv',transform=test_transform)\n",
    "dataset_test=CSVImageDataset('euro/test/images','test.csv',transform=test_transform)\n",
    "\n",
    "train_loader=(DataLoader(dataset_train,batch_size=16,num_workers=0,shuffle=True))\n",
    "valid_loader=(DataLoader(dataset_valid,batch_size=16,num_workers=0))\n",
    "test_loader=(DataLoader(dataset_test,batch_size=16,num_workers=0))\n",
    "\n",
    "im,lab=dataset_train[150]\n",
    "print('#Coins:',lab)\n",
    "print(im.shape)\n",
    "im.mean()\n",
    "im[0].mean()"
   ]
  },
  {
   "cell_type": "markdown",
   "metadata": {},
   "source": [
    "## Classe per calcolare la media delle loss"
   ]
  },
  {
   "cell_type": "code",
   "execution_count": null,
   "metadata": {},
   "outputs": [],
   "source": [
    "class AverageValueMeter():\n",
    "    def init(self):\n",
    "        self.reset()\n",
    "\n",
    "    def reset(self):\n",
    "        self.sum = 0\n",
    "        self.num = 0\n",
    "\n",
    "    def add(self, value, num):\n",
    "        self.sum += value*num\n",
    "        self.num += num\n",
    "\n",
    "    def value(self):\n",
    "        try:\n",
    "            return self.sum/self.num\n",
    "        except:\n",
    "            return None"
   ]
  },
  {
   "cell_type": "markdown",
   "metadata": {},
   "source": [
    "## Funzione per effettuare il training del modello"
   ]
  },
  {
   "cell_type": "code",
   "execution_count": null,
   "metadata": {},
   "outputs": [],
   "source": [
    "def trainval(model, train_loader, valid_loader, exp_name='experiment', lr=0.01, epochs=150, momentum=0.99, logdir='logs'):\n",
    "    criterion = nn.MSELoss() #Per regressione usiamo l'MSE loss\n",
    "\n",
    "    #optimizer = SGD(model.parameters(), lr, momentum=momentum)\n",
    "    optimizer=optim.Adam(model.parameters(), lr=lr)\n",
    "\n",
    "    # Meters\n",
    "    loss_meter = AverageValueMeter()\n",
    "    \n",
    "    # Writer\n",
    "    writer = SummaryWriter(join(logdir, exp_name))\n",
    "    \n",
    "    # Device\n",
    "    #*****DIRECTML*****\n",
    "    # dml=torch_directml.device()\n",
    "    # device = \"cuda\" if torch.cuda.is_available() else  dml\n",
    "    # model.to(device)\n",
    "    #******************\n",
    "\n",
    "    device = \"cuda\" if torch.cuda.is_available() else  \"cpu\"\n",
    "    model.to(device)\n",
    "\n",
    "    # Definiamo un dizionario contenente i loader di training e test\n",
    "    loader = {\n",
    "        'train': train_loader,\n",
    "        'valid': valid_loader\n",
    "    }\n",
    "\n",
    "    # Inizializziamo il global step (Num. immagini viste)\n",
    "    global_step = 0\n",
    "    # Creiamo la cartella dove salvare il modello se non esiste già\n",
    "    os.makedirs(\"checkpoints\", exist_ok=True)\n",
    "\n",
    "    for e in range(epochs):\n",
    "        print(f\"Epoch {e+1} of {epochs}\")\n",
    "        # iteriamo tra due modalità: train e test\n",
    "        for mode in ['train', 'valid']:\n",
    "\n",
    "            loss_meter.reset()\n",
    "            model.train() if mode == 'train' else model.eval() # Modalità eval durante la fase di validation\n",
    "\n",
    "            with torch.set_grad_enabled(mode=='train'): # Abilitiamo i gradienti solo in training\n",
    "                for i, batch in enumerate(loader[mode]):\n",
    "                    x = batch[0].to(device) # Portiamoli sul device corretto\n",
    "                    y = batch[1].to(device)\n",
    "\n",
    "                    y=y.float()\n",
    "\n",
    "                    output = model(x)\n",
    "                    n = x.shape[0] # numero di elementi nel batch\n",
    "                    global_step += n\n",
    "                    l = criterion(output.view(-1), y)\n",
    "                    \n",
    "                    if mode=='train':\n",
    "                        l.backward()\n",
    "                        optimizer.step()\n",
    "                        optimizer.zero_grad()\n",
    "                    \n",
    "                    loss_meter.add(l.item(), n)\n",
    "                    \n",
    "                    #**************DISATTIVATO=>LOGGHIAMO SOLO A FINE EPOCA\n",
    "                    # Loggiamo i risultati iterazione per iterazione solo durante il training\n",
    "                    #if mode=='train':\n",
    "                    #    writer.add_scalar('loss/train', loss_meter.value(), global_step=global_step)\n",
    "            \n",
    "            # Una volta finita l'epoca (sia nel caso di training che test, loggiamo le stime finali)\n",
    "            writer.add_scalar('loss/' + mode, loss_meter.value(), global_step=e+1)\n",
    "            \n",
    "        #Salviamo un checkpoint alla fine di ogni epoca\n",
    "        torch.save({\n",
    "            'epoch': e,\n",
    "            'model': model,\n",
    "            'optimizer_state_dict': optimizer.state_dict(),\n",
    "            'global_step':global_step\n",
    "            }, './checkpoints/%s-%d.pth'%(exp_name, e+1))\n",
    "    return model"
   ]
  },
  {
   "cell_type": "code",
   "execution_count": null,
   "metadata": {},
   "outputs": [],
   "source": [
    "squeezenet_regression=trainval(model,train_loader,valid_loader,exp_name='prova',lr=0.0001,epochs=10)"
   ]
  },
  {
   "cell_type": "markdown",
   "metadata": {},
   "source": [
    "### Per testare il modello utilizzare regression_test.ipynb"
   ]
  }
 ],
 "metadata": {
  "kernelspec": {
   "display_name": "Python 3",
   "language": "python",
   "name": "python3"
  },
  "language_info": {
   "codemirror_mode": {
    "name": "ipython",
    "version": 3
   },
   "file_extension": ".py",
   "mimetype": "text/x-python",
   "name": "python",
   "nbconvert_exporter": "python",
   "pygments_lexer": "ipython3",
   "version": "3.12.2"
  }
 },
 "nbformat": 4,
 "nbformat_minor": 2
}
